{
 "cells": [
  {
   "cell_type": "code",
   "execution_count": 1,
   "metadata": {},
   "outputs": [],
   "source": [
    "import pandas as pd\n",
    "import numpy as np\n",
    "from sklearn.model_selection import train_test_split\n",
    "import random\n",
    "import torch\n",
    "import torch.nn as nn\n",
    "import torch.nn.functional as F\n",
    "import torch.optim as optim\n",
    "import torchinfo\n",
    "from torch.utils.data import DataLoader, Dataset\n",
    "from sklearn.model_selection import train_test_split\n",
    "from sklearn.metrics import accuracy_score, precision_score, recall_score, f1_score\n",
    "import matplotlib.pyplot as plt"
   ]
  },
  {
   "cell_type": "code",
   "execution_count": 2,
   "metadata": {},
   "outputs": [
    {
     "name": "stdout",
     "output_type": "stream",
     "text": [
      "cuda\n"
     ]
    }
   ],
   "source": [
    "# hyperparameters\n",
    "seed = 42\n",
    "valid_size=0.3 # validation + testing\n",
    "test_size=0.5 # tesing / (testing+validation)\n",
    "learning_rate = 0.001\n",
    "epochs = 10\n",
    "batch_size = 2048\n",
    "weight_decay = 0.0005\n",
    "dropout = 0.5\n",
    "embed_dim = 384\n",
    "max_len = 400 # max length of the paper_ids of a author\n",
    "\n",
    "random.seed(seed)\n",
    "if torch.cuda.is_available():\n",
    "    device = torch.device('cuda')\n",
    "else:\n",
    "    device=torch.device('cpu')\n",
    "print(device)"
   ]
  },
  {
   "cell_type": "code",
   "execution_count": 3,
   "metadata": {},
   "outputs": [],
   "source": [
    "# load data\n",
    "df_cascade = pd.read_json(\"../processed_data/df_cascade.json\")\n",
    "df_authors = pd.read_json(\"../processed_data/df_authors.json\")\n",
    "\n",
    "sum_positive = 0\n",
    "for id, row in df_cascade.iterrows():\n",
    "    sum_positive += len(row['citation_authors'])\n",
    "avg_negative = sum_positive // len(df_cascade)"
   ]
  },
  {
   "cell_type": "code",
   "execution_count": 4,
   "metadata": {},
   "outputs": [],
   "source": [
    "# sentence-bert to get embeddings\n",
    "\n",
    "# from sentence_transformers import SentenceTransformer\n",
    "# model = SentenceTransformer(\"all-MiniLM-L6-v2\")\n",
    "\n",
    "# abstract_ls = df_abstract['abstract'].tolist()\n",
    "# for i in range(len(abstract_ls)):\n",
    "#     if type(abstract_ls[i]) == float:\n",
    "#         abstract_ls[i] = \"\"\n",
    "\n",
    "# abstract_embeddings = model.encode(abstract_ls, convert_to_tensor=True)\n",
    "# torch.save(abstract_embeddings, 'abstract_embeddings.pt')\n",
    "\n",
    "# For gpu\n",
    "loaded_tensor = torch.load('../processed_data/abstract_embeddings.pt').to(device)\n",
    "# For cpu\n",
    "# loaded_tensor = torch.load('../processed_data/abstract_embeddings.pt', map_location=torch.device('cpu'))"
   ]
  },
  {
   "cell_type": "code",
   "execution_count": 5,
   "metadata": {},
   "outputs": [],
   "source": [
    "# add negative samples\n",
    "df_cascade['negative_authors'] = [[] for _ in range(len(df_cascade))]\n",
    "author_ls = df_authors['author_id'].tolist()\n",
    "for index, row in df_cascade.iterrows():\n",
    "    authors = row['citation_authors']\n",
    "    temp_indices = []\n",
    "    for _ in range(avg_negative):\n",
    "        isInclude = True\n",
    "        while(isInclude):\n",
    "            rand_author_id = random.choice(author_ls)\n",
    "            if rand_author_id in authors:\n",
    "                continue\n",
    "            else:\n",
    "                isInclude = False\n",
    "                temp_indices.append(rand_author_id)\n",
    "    df_cascade.at[index, 'negative_authors'] = temp_indices\n"
   ]
  },
  {
   "cell_type": "code",
   "execution_count": 6,
   "metadata": {},
   "outputs": [],
   "source": [
    "# split\n",
    "\n",
    "train_data, temp_data = train_test_split(df_cascade, test_size=valid_size, random_state=seed)\n",
    "val_data, test_data = train_test_split(temp_data, test_size=test_size, random_state=seed)\n",
    "\n",
    "train_iter = [] # [paper_id, author_id, label]\n",
    "for index, row in train_data.iterrows():\n",
    "    paper_id = row['paper_id']\n",
    "    for author in row['citation_authors']:\n",
    "        train_iter.append([paper_id, int(author), 1])\n",
    "    for negative in row['negative_authors']:\n",
    "        train_iter.append([paper_id, int(negative), 0])\n",
    "\n",
    "val_iter = []\n",
    "for index, row in val_data.iterrows():\n",
    "    paper_id = row['paper_id']\n",
    "    for author in row['citation_authors']:\n",
    "        val_iter.append([paper_id, int(author), 1])\n",
    "    for negative in row['negative_authors']:\n",
    "        val_iter.append([paper_id, int(negative), 0])\n",
    "\n",
    "test_iter = []\n",
    "for index, row in test_data.iterrows():\n",
    "    paper_id = row['paper_id']\n",
    "    for author in row['citation_authors']:\n",
    "        test_iter.append([paper_id, int(author), 1])\n",
    "    for negative in row['negative_authors']:\n",
    "        test_iter.append([paper_id, int(negative), 0])"
   ]
  },
  {
   "cell_type": "code",
   "execution_count": 7,
   "metadata": {},
   "outputs": [],
   "source": [
    "# data loader\n",
    "\n",
    "class PairDataset(Dataset): # [paper_id, paper_ids of author_id, label]\n",
    "  def __init__(self, x):\n",
    "    self.x_paper = np.array(x)[:,0]\n",
    "    self.x_author = np.array(x)[:,1]\n",
    "    self.y = np.array(x)[:,2]\n",
    "  \n",
    "  def __len__(self):\n",
    "    return len(self.x_paper)\n",
    "\n",
    "  def __getitem__(self, idx):\n",
    "    x1_sample = self.x_paper[idx] # paper_id\n",
    "    x2_sample = df_authors.loc[df_authors['author_id'] == self.x_author[idx], 'paper_ids']\n",
    "    x2_sample = x2_sample.values[0] # list of paper ids\n",
    "\n",
    "    # pad to max length of paper_ids\n",
    "    # already known that loaded_tensor[0] is embedding of empty string\n",
    "    x2_sample = np.array(x2_sample + [0] * (max_len - len(x2_sample)))\n",
    "    y_sample = np.array(self.y[idx])\n",
    "    \n",
    "    return x1_sample, x2_sample, y_sample\n",
    "\n",
    "train_data = PairDataset(train_iter)\n",
    "valid_data = PairDataset(val_iter)\n",
    "test_data = PairDataset(test_iter)\n",
    "\n",
    "train_loader = DataLoader(train_data, batch_size=batch_size, shuffle=True)\n",
    "valid_loader = DataLoader(valid_data, batch_size=batch_size, shuffle=True)\n",
    "test_loader = DataLoader(test_data, batch_size=batch_size, shuffle=True)"
   ]
  },
  {
   "cell_type": "code",
   "execution_count": 8,
   "metadata": {},
   "outputs": [
    {
     "data": {
      "text/plain": [
       "(481380, 105590, 105372)"
      ]
     },
     "execution_count": 8,
     "metadata": {},
     "output_type": "execute_result"
    }
   ],
   "source": [
    "len(train_iter), len(val_iter), len(test_iter)"
   ]
  },
  {
   "cell_type": "code",
   "execution_count": 9,
   "metadata": {},
   "outputs": [
    {
     "name": "stdout",
     "output_type": "stream",
     "text": [
      "torch.Size([2048])\n",
      "torch.Size([2048, 400])\n",
      "torch.Size([2048])\n",
      "236\n"
     ]
    }
   ],
   "source": [
    "for paper_id, author_id_ls, label in train_loader:\n",
    "    print(paper_id.shape)\n",
    "    print(author_id_ls.shape)\n",
    "    print(label.shape)\n",
    "    break\n",
    "print(len(train_loader)) # how many batches"
   ]
  },
  {
   "cell_type": "code",
   "execution_count": 10,
   "metadata": {},
   "outputs": [],
   "source": [
    "# model\n",
    "class AttClassifier(nn.Module):\n",
    "    def __init__(self, embed_dim, hidden_dim, dropout=0.5, num_layers=1, bidirectional=True):\n",
    "        super(AttClassifier, self).__init__()\n",
    "        self.fc_x1 = nn.Linear(embed_dim, hidden_dim)\n",
    "        self.fc_x3 = nn.Linear(hidden_dim * 2, 2)\n",
    "        self.dropout = nn.Dropout(dropout)\n",
    "        \n",
    "        # Attention layers\n",
    "        self.attention_query = nn.Linear(embed_dim, embed_dim)\n",
    "        self.attention_key = nn.Linear(embed_dim, embed_dim)\n",
    "        self.attention_value = nn.Linear(embed_dim, embed_dim)\n",
    "        self.attention_output = nn.Linear(embed_dim, hidden_dim)\n",
    "        \n",
    "        # BiLSTM layer for x2 embeddings\n",
    "        self.bilstm = nn.LSTM(embed_dim, embed_dim // 2, num_layers, bidirectional=bidirectional, batch_first=False)\n",
    "\n",
    "    def forward(self, x1_idx, x2_idxs):\n",
    "        # Retrieve sentence embeddings\n",
    "        x1_embedding = loaded_tensor[x1_idx]\n",
    "        x2_embeddings = [loaded_tensor[idx] for idx in x2_idxs]\n",
    "        \n",
    "        # Process x1 embedding\n",
    "        y1 = self.fc_x1(x1_embedding)\n",
    "        \n",
    "        # Process x2 embeddings with BiLSTM and attention\n",
    "        x2_embeddings = torch.stack(x2_embeddings, dim=1)  # [batch_size, seq_length, embed_dim]\n",
    "        x2_embeddings, _ = self.bilstm(x2_embeddings)  # [seq_length, batch_size, embed_dim]\n",
    "        x2_embeddings = x2_embeddings.permute(1, 0, 2)  # [batch_size, seq_length, embed_dim]\n",
    "        \n",
    "        query = self.attention_query(x1_embedding).unsqueeze(1)  # [batch_size, 1, embed_dim]\n",
    "        keys = torch.stack([self.attention_key(emb) for emb in x2_embeddings], dim=0)  # [batch_size, seq_length, embed_dim]\n",
    "        values = torch.stack([self.attention_value(emb) for emb in x2_embeddings], dim=0)  # [batch_size, seq_length, embed_dim]\n",
    "\n",
    "        attention_scores = torch.bmm(keys, query.transpose(1, 2)).squeeze(2)  # [batch_size, seq_length]\n",
    "        attention_weights = F.softmax(attention_scores, dim=1).unsqueeze(2)  # [batch_size, seq_length, 1]\n",
    "        \n",
    "        y2 = torch.bmm(values.transpose(1, 2), attention_weights).squeeze(2)  # [batch_size, embed_dim]\n",
    "        y2 = self.attention_output(y2)  # [batch_size, hidden_dim]\n",
    "        \n",
    "        # Concatenate y1 and y2\n",
    "        final_output = torch.cat([y1, y2], dim=-1)\n",
    "        y_final = self.fc_x3(final_output)\n",
    "        \n",
    "        return y_final"
   ]
  },
  {
   "cell_type": "code",
   "execution_count": 11,
   "metadata": {},
   "outputs": [
    {
     "name": "stdout",
     "output_type": "stream",
     "text": [
      "=================================================================\n",
      "Layer (type:depth-idx)                   Param #\n",
      "=================================================================\n",
      "AttClassifier                            --\n",
      "├─Linear: 1-1                            12,320\n",
      "├─Linear: 1-2                            130\n",
      "├─Dropout: 1-3                           --\n",
      "├─Linear: 1-4                            147,840\n",
      "├─Linear: 1-5                            147,840\n",
      "├─Linear: 1-6                            147,840\n",
      "├─Linear: 1-7                            12,320\n",
      "├─LSTM: 1-8                              887,808\n",
      "=================================================================\n",
      "Total params: 1,356,098\n",
      "Trainable params: 1,356,098\n",
      "Non-trainable params: 0\n",
      "=================================================================\n"
     ]
    }
   ],
   "source": [
    "model = AttClassifier(embed_dim=embed_dim, hidden_dim=32, dropout=dropout).to(device)\n",
    "print(torchinfo.summary(model))"
   ]
  },
  {
   "cell_type": "code",
   "execution_count": 12,
   "metadata": {},
   "outputs": [],
   "source": [
    "criterion = nn.CrossEntropyLoss()\n",
    "optimizer = torch.optim.Adam(model.parameters(), lr=learning_rate, weight_decay=weight_decay)"
   ]
  },
  {
   "cell_type": "code",
   "execution_count": 13,
   "metadata": {},
   "outputs": [
    {
     "ename": "KeyboardInterrupt",
     "evalue": "",
     "output_type": "error",
     "traceback": [
      "\u001b[1;31m---------------------------------------------------------------------------\u001b[0m",
      "\u001b[1;31mKeyboardInterrupt\u001b[0m                         Traceback (most recent call last)",
      "Cell \u001b[1;32mIn[13], line 16\u001b[0m\n\u001b[0;32m     14\u001b[0m author_id_ls \u001b[38;5;241m=\u001b[39m author_id_ls\u001b[38;5;241m.\u001b[39mto(device)\n\u001b[0;32m     15\u001b[0m label \u001b[38;5;241m=\u001b[39m label\u001b[38;5;241m.\u001b[39mto(device)\n\u001b[1;32m---> 16\u001b[0m output \u001b[38;5;241m=\u001b[39m \u001b[43mmodel\u001b[49m\u001b[43m(\u001b[49m\u001b[43mpaper_id\u001b[49m\u001b[43m,\u001b[49m\u001b[43m \u001b[49m\u001b[43mauthor_id_ls\u001b[49m\u001b[43m)\u001b[49m\n\u001b[0;32m     17\u001b[0m loss \u001b[38;5;241m=\u001b[39m criterion(output, label\u001b[38;5;241m.\u001b[39mlong())\n\u001b[0;32m     18\u001b[0m loss\u001b[38;5;241m.\u001b[39mbackward()\n",
      "File \u001b[1;32mc:\\Users\\Main\\anaconda\\lib\\site-packages\\torch\\nn\\modules\\module.py:1518\u001b[0m, in \u001b[0;36mModule._wrapped_call_impl\u001b[1;34m(self, *args, **kwargs)\u001b[0m\n\u001b[0;32m   1516\u001b[0m     \u001b[38;5;28;01mreturn\u001b[39;00m \u001b[38;5;28mself\u001b[39m\u001b[38;5;241m.\u001b[39m_compiled_call_impl(\u001b[38;5;241m*\u001b[39margs, \u001b[38;5;241m*\u001b[39m\u001b[38;5;241m*\u001b[39mkwargs)  \u001b[38;5;66;03m# type: ignore[misc]\u001b[39;00m\n\u001b[0;32m   1517\u001b[0m \u001b[38;5;28;01melse\u001b[39;00m:\n\u001b[1;32m-> 1518\u001b[0m     \u001b[38;5;28;01mreturn\u001b[39;00m \u001b[38;5;28mself\u001b[39m\u001b[38;5;241m.\u001b[39m_call_impl(\u001b[38;5;241m*\u001b[39margs, \u001b[38;5;241m*\u001b[39m\u001b[38;5;241m*\u001b[39mkwargs)\n",
      "File \u001b[1;32mc:\\Users\\Main\\anaconda\\lib\\site-packages\\torch\\nn\\modules\\module.py:1527\u001b[0m, in \u001b[0;36mModule._call_impl\u001b[1;34m(self, *args, **kwargs)\u001b[0m\n\u001b[0;32m   1522\u001b[0m \u001b[38;5;66;03m# If we don't have any hooks, we want to skip the rest of the logic in\u001b[39;00m\n\u001b[0;32m   1523\u001b[0m \u001b[38;5;66;03m# this function, and just call forward.\u001b[39;00m\n\u001b[0;32m   1524\u001b[0m \u001b[38;5;28;01mif\u001b[39;00m \u001b[38;5;129;01mnot\u001b[39;00m (\u001b[38;5;28mself\u001b[39m\u001b[38;5;241m.\u001b[39m_backward_hooks \u001b[38;5;129;01mor\u001b[39;00m \u001b[38;5;28mself\u001b[39m\u001b[38;5;241m.\u001b[39m_backward_pre_hooks \u001b[38;5;129;01mor\u001b[39;00m \u001b[38;5;28mself\u001b[39m\u001b[38;5;241m.\u001b[39m_forward_hooks \u001b[38;5;129;01mor\u001b[39;00m \u001b[38;5;28mself\u001b[39m\u001b[38;5;241m.\u001b[39m_forward_pre_hooks\n\u001b[0;32m   1525\u001b[0m         \u001b[38;5;129;01mor\u001b[39;00m _global_backward_pre_hooks \u001b[38;5;129;01mor\u001b[39;00m _global_backward_hooks\n\u001b[0;32m   1526\u001b[0m         \u001b[38;5;129;01mor\u001b[39;00m _global_forward_hooks \u001b[38;5;129;01mor\u001b[39;00m _global_forward_pre_hooks):\n\u001b[1;32m-> 1527\u001b[0m     \u001b[38;5;28;01mreturn\u001b[39;00m forward_call(\u001b[38;5;241m*\u001b[39margs, \u001b[38;5;241m*\u001b[39m\u001b[38;5;241m*\u001b[39mkwargs)\n\u001b[0;32m   1529\u001b[0m \u001b[38;5;28;01mtry\u001b[39;00m:\n\u001b[0;32m   1530\u001b[0m     result \u001b[38;5;241m=\u001b[39m \u001b[38;5;28;01mNone\u001b[39;00m\n",
      "Cell \u001b[1;32mIn[10], line 32\u001b[0m, in \u001b[0;36mAttClassifier.forward\u001b[1;34m(self, x1_idx, x2_idxs)\u001b[0m\n\u001b[0;32m     29\u001b[0m x2_embeddings \u001b[38;5;241m=\u001b[39m x2_embeddings\u001b[38;5;241m.\u001b[39mpermute(\u001b[38;5;241m1\u001b[39m, \u001b[38;5;241m0\u001b[39m, \u001b[38;5;241m2\u001b[39m)  \u001b[38;5;66;03m# [batch_size, seq_length, embed_dim]\u001b[39;00m\n\u001b[0;32m     31\u001b[0m query \u001b[38;5;241m=\u001b[39m \u001b[38;5;28mself\u001b[39m\u001b[38;5;241m.\u001b[39mattention_query(x1_embedding)\u001b[38;5;241m.\u001b[39munsqueeze(\u001b[38;5;241m1\u001b[39m)  \u001b[38;5;66;03m# [batch_size, 1, embed_dim]\u001b[39;00m\n\u001b[1;32m---> 32\u001b[0m keys \u001b[38;5;241m=\u001b[39m torch\u001b[38;5;241m.\u001b[39mstack([\u001b[38;5;28mself\u001b[39m\u001b[38;5;241m.\u001b[39mattention_key(emb) \u001b[38;5;28;01mfor\u001b[39;00m emb \u001b[38;5;129;01min\u001b[39;00m x2_embeddings], dim\u001b[38;5;241m=\u001b[39m\u001b[38;5;241m0\u001b[39m)  \u001b[38;5;66;03m# [batch_size, seq_length, embed_dim]\u001b[39;00m\n\u001b[0;32m     33\u001b[0m values \u001b[38;5;241m=\u001b[39m torch\u001b[38;5;241m.\u001b[39mstack([\u001b[38;5;28mself\u001b[39m\u001b[38;5;241m.\u001b[39mattention_value(emb) \u001b[38;5;28;01mfor\u001b[39;00m emb \u001b[38;5;129;01min\u001b[39;00m x2_embeddings], dim\u001b[38;5;241m=\u001b[39m\u001b[38;5;241m0\u001b[39m)  \u001b[38;5;66;03m# [batch_size, seq_length, embed_dim]\u001b[39;00m\n\u001b[0;32m     35\u001b[0m attention_scores \u001b[38;5;241m=\u001b[39m torch\u001b[38;5;241m.\u001b[39mbmm(keys, query\u001b[38;5;241m.\u001b[39mtranspose(\u001b[38;5;241m1\u001b[39m, \u001b[38;5;241m2\u001b[39m))\u001b[38;5;241m.\u001b[39msqueeze(\u001b[38;5;241m2\u001b[39m)  \u001b[38;5;66;03m# [batch_size, seq_length]\u001b[39;00m\n",
      "Cell \u001b[1;32mIn[10], line 32\u001b[0m, in \u001b[0;36m<listcomp>\u001b[1;34m(.0)\u001b[0m\n\u001b[0;32m     29\u001b[0m x2_embeddings \u001b[38;5;241m=\u001b[39m x2_embeddings\u001b[38;5;241m.\u001b[39mpermute(\u001b[38;5;241m1\u001b[39m, \u001b[38;5;241m0\u001b[39m, \u001b[38;5;241m2\u001b[39m)  \u001b[38;5;66;03m# [batch_size, seq_length, embed_dim]\u001b[39;00m\n\u001b[0;32m     31\u001b[0m query \u001b[38;5;241m=\u001b[39m \u001b[38;5;28mself\u001b[39m\u001b[38;5;241m.\u001b[39mattention_query(x1_embedding)\u001b[38;5;241m.\u001b[39munsqueeze(\u001b[38;5;241m1\u001b[39m)  \u001b[38;5;66;03m# [batch_size, 1, embed_dim]\u001b[39;00m\n\u001b[1;32m---> 32\u001b[0m keys \u001b[38;5;241m=\u001b[39m torch\u001b[38;5;241m.\u001b[39mstack([\u001b[38;5;28;43mself\u001b[39;49m\u001b[38;5;241;43m.\u001b[39;49m\u001b[43mattention_key\u001b[49m\u001b[43m(\u001b[49m\u001b[43memb\u001b[49m\u001b[43m)\u001b[49m \u001b[38;5;28;01mfor\u001b[39;00m emb \u001b[38;5;129;01min\u001b[39;00m x2_embeddings], dim\u001b[38;5;241m=\u001b[39m\u001b[38;5;241m0\u001b[39m)  \u001b[38;5;66;03m# [batch_size, seq_length, embed_dim]\u001b[39;00m\n\u001b[0;32m     33\u001b[0m values \u001b[38;5;241m=\u001b[39m torch\u001b[38;5;241m.\u001b[39mstack([\u001b[38;5;28mself\u001b[39m\u001b[38;5;241m.\u001b[39mattention_value(emb) \u001b[38;5;28;01mfor\u001b[39;00m emb \u001b[38;5;129;01min\u001b[39;00m x2_embeddings], dim\u001b[38;5;241m=\u001b[39m\u001b[38;5;241m0\u001b[39m)  \u001b[38;5;66;03m# [batch_size, seq_length, embed_dim]\u001b[39;00m\n\u001b[0;32m     35\u001b[0m attention_scores \u001b[38;5;241m=\u001b[39m torch\u001b[38;5;241m.\u001b[39mbmm(keys, query\u001b[38;5;241m.\u001b[39mtranspose(\u001b[38;5;241m1\u001b[39m, \u001b[38;5;241m2\u001b[39m))\u001b[38;5;241m.\u001b[39msqueeze(\u001b[38;5;241m2\u001b[39m)  \u001b[38;5;66;03m# [batch_size, seq_length]\u001b[39;00m\n",
      "File \u001b[1;32mc:\\Users\\Main\\anaconda\\lib\\site-packages\\torch\\nn\\modules\\module.py:1518\u001b[0m, in \u001b[0;36mModule._wrapped_call_impl\u001b[1;34m(self, *args, **kwargs)\u001b[0m\n\u001b[0;32m   1516\u001b[0m     \u001b[38;5;28;01mreturn\u001b[39;00m \u001b[38;5;28mself\u001b[39m\u001b[38;5;241m.\u001b[39m_compiled_call_impl(\u001b[38;5;241m*\u001b[39margs, \u001b[38;5;241m*\u001b[39m\u001b[38;5;241m*\u001b[39mkwargs)  \u001b[38;5;66;03m# type: ignore[misc]\u001b[39;00m\n\u001b[0;32m   1517\u001b[0m \u001b[38;5;28;01melse\u001b[39;00m:\n\u001b[1;32m-> 1518\u001b[0m     \u001b[38;5;28;01mreturn\u001b[39;00m \u001b[38;5;28mself\u001b[39m\u001b[38;5;241m.\u001b[39m_call_impl(\u001b[38;5;241m*\u001b[39margs, \u001b[38;5;241m*\u001b[39m\u001b[38;5;241m*\u001b[39mkwargs)\n",
      "File \u001b[1;32mc:\\Users\\Main\\anaconda\\lib\\site-packages\\torch\\nn\\modules\\module.py:1527\u001b[0m, in \u001b[0;36mModule._call_impl\u001b[1;34m(self, *args, **kwargs)\u001b[0m\n\u001b[0;32m   1522\u001b[0m \u001b[38;5;66;03m# If we don't have any hooks, we want to skip the rest of the logic in\u001b[39;00m\n\u001b[0;32m   1523\u001b[0m \u001b[38;5;66;03m# this function, and just call forward.\u001b[39;00m\n\u001b[0;32m   1524\u001b[0m \u001b[38;5;28;01mif\u001b[39;00m \u001b[38;5;129;01mnot\u001b[39;00m (\u001b[38;5;28mself\u001b[39m\u001b[38;5;241m.\u001b[39m_backward_hooks \u001b[38;5;129;01mor\u001b[39;00m \u001b[38;5;28mself\u001b[39m\u001b[38;5;241m.\u001b[39m_backward_pre_hooks \u001b[38;5;129;01mor\u001b[39;00m \u001b[38;5;28mself\u001b[39m\u001b[38;5;241m.\u001b[39m_forward_hooks \u001b[38;5;129;01mor\u001b[39;00m \u001b[38;5;28mself\u001b[39m\u001b[38;5;241m.\u001b[39m_forward_pre_hooks\n\u001b[0;32m   1525\u001b[0m         \u001b[38;5;129;01mor\u001b[39;00m _global_backward_pre_hooks \u001b[38;5;129;01mor\u001b[39;00m _global_backward_hooks\n\u001b[0;32m   1526\u001b[0m         \u001b[38;5;129;01mor\u001b[39;00m _global_forward_hooks \u001b[38;5;129;01mor\u001b[39;00m _global_forward_pre_hooks):\n\u001b[1;32m-> 1527\u001b[0m     \u001b[38;5;28;01mreturn\u001b[39;00m forward_call(\u001b[38;5;241m*\u001b[39margs, \u001b[38;5;241m*\u001b[39m\u001b[38;5;241m*\u001b[39mkwargs)\n\u001b[0;32m   1529\u001b[0m \u001b[38;5;28;01mtry\u001b[39;00m:\n\u001b[0;32m   1530\u001b[0m     result \u001b[38;5;241m=\u001b[39m \u001b[38;5;28;01mNone\u001b[39;00m\n",
      "File \u001b[1;32mc:\\Users\\Main\\anaconda\\lib\\site-packages\\torch\\nn\\modules\\linear.py:114\u001b[0m, in \u001b[0;36mLinear.forward\u001b[1;34m(self, input)\u001b[0m\n\u001b[0;32m    113\u001b[0m \u001b[38;5;28;01mdef\u001b[39;00m \u001b[38;5;21mforward\u001b[39m(\u001b[38;5;28mself\u001b[39m, \u001b[38;5;28minput\u001b[39m: Tensor) \u001b[38;5;241m-\u001b[39m\u001b[38;5;241m>\u001b[39m Tensor:\n\u001b[1;32m--> 114\u001b[0m     \u001b[38;5;28;01mreturn\u001b[39;00m \u001b[43mF\u001b[49m\u001b[38;5;241;43m.\u001b[39;49m\u001b[43mlinear\u001b[49m\u001b[43m(\u001b[49m\u001b[38;5;28;43minput\u001b[39;49m\u001b[43m,\u001b[49m\u001b[43m \u001b[49m\u001b[38;5;28;43mself\u001b[39;49m\u001b[38;5;241;43m.\u001b[39;49m\u001b[43mweight\u001b[49m\u001b[43m,\u001b[49m\u001b[43m \u001b[49m\u001b[38;5;28;43mself\u001b[39;49m\u001b[38;5;241;43m.\u001b[39;49m\u001b[43mbias\u001b[49m\u001b[43m)\u001b[49m\n",
      "\u001b[1;31mKeyboardInterrupt\u001b[0m: "
     ]
    }
   ],
   "source": [
    "# training loop\n",
    "model.train()\n",
    "training_loss = []\n",
    "valid_loss = []\n",
    "training_accuracy = []\n",
    "valid_accuracy = []\n",
    "\n",
    "for epoch in range(epochs):\n",
    "    correct = 0 # for train_accuracy\n",
    "    model.train()\n",
    "    for index, [paper_id, author_id_ls, label] in enumerate(train_loader):\n",
    "        optimizer.zero_grad()\n",
    "        paper_id = paper_id.to(device)\n",
    "        author_id_ls = author_id_ls.to(device)\n",
    "        label = label.to(device)\n",
    "        output = model(paper_id, author_id_ls)\n",
    "        loss = criterion(output, label.long())\n",
    "        loss.backward()\n",
    "        optimizer.step()\n",
    "        # Calculate training accuracy\n",
    "        preds = torch.argmax(output, dim=1)\n",
    "        correct += (preds == label).sum().item()\n",
    "\n",
    "    training_accuracy.append(correct / len(train_loader.dataset))\n",
    "    training_loss.append(loss.item())\n",
    "    print(f'Epoch [{epoch+1}/{epochs}], Training_Loss: {loss.item():.4f}')\n",
    "\n",
    "    # Validation\n",
    "    num_correct = 0 # for valid_accuracy\n",
    "    model.eval()\n",
    "    val_loss = 0.0\n",
    "    for x1, x2, y in valid_loader:\n",
    "        x = x1.to(device)\n",
    "        x2 = x2.to(device)\n",
    "        y = y.to(device)\n",
    "        preds = model(x1, x2)\n",
    "        loss = criterion(preds, y.long())\n",
    "        val_loss += loss.item()\n",
    "        num_correct += (torch.argmax(preds, dim=1) == y).sum().item()\n",
    "    \n",
    "    valid_accuracy.append(num_correct / len(valid_loader.dataset))\n",
    "    val_loss /= len(valid_loader)\n",
    "    valid_loss.append(val_loss)\n",
    "    print(f'Validation loss: {val_loss:.4f}')"
   ]
  },
  {
   "cell_type": "code",
   "execution_count": null,
   "metadata": {},
   "outputs": [
    {
     "data": {
      "text/plain": [
       "[<matplotlib.lines.Line2D at 0x1f93c6359c0>,\n",
       " <matplotlib.lines.Line2D at 0x1f93c6359f0>]"
      ]
     },
     "execution_count": 15,
     "metadata": {},
     "output_type": "execute_result"
    },
    {
     "data": {
      "image/png": "[encoded data removed]",
      "text/plain": [
       "<Figure size 640x480 with 1 Axes>"
      ]
     },
     "metadata": {},
     "output_type": "display_data"
    }
   ],
   "source": [
    "plt.plot(training_loss, 'b', valid_loss, 'r')"
   ]
  },
  {
   "cell_type": "code",
   "execution_count": null,
   "metadata": {},
   "outputs": [
    {
     "data": {
      "text/plain": [
       "[<matplotlib.lines.Line2D at 0x1f940bc2800>,\n",
       " <matplotlib.lines.Line2D at 0x1f940bc2680>]"
      ]
     },
     "execution_count": 16,
     "metadata": {},
     "output_type": "execute_result"
    },
    {
     "data": {
      "image/png": "[encoded data removed]",
      "text/plain": [
       "<Figure size 640x480 with 1 Axes>"
      ]
     },
     "metadata": {},
     "output_type": "display_data"
    }
   ],
   "source": [
    "plt.plot(training_accuracy, 'b', valid_accuracy, 'r')"
   ]
  },
  {
   "cell_type": "code",
   "execution_count": null,
   "metadata": {},
   "outputs": [
    {
     "name": "stdout",
     "output_type": "stream",
     "text": [
      "Test Accuracy: 87.89%\n",
      "Test Precision: 85.10%\n",
      "Test Recall: 90.77%\n",
      "Test F1 Score: 87.84%\n"
     ]
    }
   ],
   "source": [
    "model.eval()\n",
    "preds = []\n",
    "labels = []\n",
    "with torch.no_grad():\n",
    "    running_hit = 0.0\n",
    "\n",
    "    for x1, x2, y in test_loader:\n",
    "        x1 = x1.to(device)\n",
    "        x2 = x2.to(device)    \n",
    "        y = y.to(device)\n",
    "        output = model(x1, x2)\n",
    "        pred = output.argmax(dim=1)\n",
    "        labels.append(y)\n",
    "        preds.append(pred)\n",
    "    preds_cat = torch.cat(preds).to('cpu')\n",
    "    labels_cat = torch.cat(labels).to('cpu')\n",
    "    \n",
    "    accuracy = accuracy_score(preds_cat, labels_cat)\n",
    "    precision = precision_score(preds_cat, labels_cat)\n",
    "    recall = recall_score(preds_cat, labels_cat)\n",
    "    f1 = f1_score(preds_cat, labels_cat)\n",
    "    print(f'Test Accuracy: {accuracy * 100:.2f}%')\n",
    "    print(f'Test Precision: {precision * 100:.2f}%')\n",
    "    print(f'Test Recall: {recall * 100:.2f}%')\n",
    "    print(f'Test F1 Score: {f1 * 100:.2f}%')"
   ]
  },
  {
   "cell_type": "code",
   "execution_count": null,
   "metadata": {},
   "outputs": [],
   "source": [
    "# save model\n",
    "# torch.save(model.state_dict(), 'att-bilstm_classifier.pt')\n",
    "\n",
    "# load model\n",
    "# model = AttClassifier(embed_dim=embed_dim, hidden_dim=32, dropout=dropout).to(device)\n",
    "# model.load_state_dict(torch.load('att_classifier.pt'))"
   ]
  },
  {
   "cell_type": "markdown",
   "metadata": {},
   "source": []
  }
 ],
 "metadata": {
  "kernelspec": {
   "display_name": "base",
   "language": "python",
   "name": "python3"
  },
  "language_info": {
   "codemirror_mode": {
    "name": "ipython",
    "version": 3
   },
   "file_extension": ".py",
   "mimetype": "text/x-python",
   "name": "python",
   "nbconvert_exporter": "python",
   "pygments_lexer": "ipython3",
   "version": "3.10.13"
  }
 },
 "nbformat": 4,
 "nbformat_minor": 2
}
