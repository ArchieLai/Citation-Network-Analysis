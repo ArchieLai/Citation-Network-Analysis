{
 "cells": [
  {
   "cell_type": "code",
   "execution_count": 1,
   "metadata": {},
   "outputs": [],
   "source": [
    "import pandas as pd\n",
    "import numpy as np\n",
    "from sklearn.model_selection import train_test_split\n",
    "import random\n",
    "import torch\n",
    "import torch.nn as nn\n",
    "import torch.nn.functional as F\n",
    "import torch.optim as optim\n",
    "import torchinfo\n",
    "from torch.utils.data import DataLoader, Dataset\n",
    "from sklearn.model_selection import train_test_split\n",
    "from sklearn.metrics import accuracy_score, precision_score, recall_score, f1_score\n",
    "import matplotlib.pyplot as plt"
   ]
  },
  {
   "cell_type": "code",
   "execution_count": 212,
   "metadata": {},
   "outputs": [
    {
     "name": "stdout",
     "output_type": "stream",
     "text": [
      "cpu\n"
     ]
    }
   ],
   "source": [
    "# hyperparameters\n",
    "seed = 42\n",
    "valid_size=0.3 # validation + testing\n",
    "test_size=0.5 # tesing / (testing+validation)\n",
    "learning_rate = 0.001\n",
    "epochs = 10\n",
    "batch_size = 2048\n",
    "weight_decay = 0.0005\n",
    "dropout = 0.5\n",
    "embed_dim = 384\n",
    "max_len = 400 # max length of the paper_ids of a author\n",
    "\n",
    "random.seed(seed)\n",
    "if torch.cuda.is_available():\n",
    "    device = torch.device('cuda')\n",
    "else:\n",
    "    device=torch.device('cpu')\n",
    "print(device)"
   ]
  },
  {
   "cell_type": "code",
   "execution_count": 259,
   "metadata": {},
   "outputs": [],
   "source": [
    "# load data\n",
    "df_cascade = pd.read_json(\"../processed_data/df_cascade.json\")\n",
    "df_authors = pd.read_json(\"../processed_data/df_authors.json\")\n",
    "\n",
    "sum_positive = 0\n",
    "for id, row in df_cascade.iterrows():\n",
    "    sum_positive += len(row['citation_authors'])\n",
    "avg_negative = sum_positive // len(df_cascade)"
   ]
  },
  {
   "cell_type": "code",
   "execution_count": 260,
   "metadata": {},
   "outputs": [],
   "source": [
    "# sentence-bert to get embeddings\n",
    "\n",
    "# from sentence_transformers import SentenceTransformer\n",
    "# model = SentenceTransformer(\"all-MiniLM-L6-v2\")\n",
    "\n",
    "# abstract_ls = df_abstract['abstract'].tolist()\n",
    "# for i in range(len(abstract_ls)):\n",
    "#     if type(abstract_ls[i]) == float:\n",
    "#         abstract_ls[i] = \"\"\n",
    "\n",
    "# abstract_embeddings = model.encode(abstract_ls, convert_to_tensor=True)\n",
    "# torch.save(abstract_embeddings, 'abstract_embeddings.pt')\n",
    "\n",
    "# For gpu\n",
    "# loaded_tensor = torch.load('../processed_data/abstract_embeddings.pt').to(device)\n",
    "# For cpu\n",
    "loaded_tensor = torch.load('../processed_data/abstract_embeddings.pt', map_location=torch.device('cpu'))"
   ]
  },
  {
   "cell_type": "code",
   "execution_count": 261,
   "metadata": {},
   "outputs": [],
   "source": [
    "# add negative samples\n",
    "df_cascade['negative_authors'] = [[] for _ in range(len(df_cascade))]\n",
    "author_ls = df_authors['author_id'].tolist()\n",
    "for index, row in df_cascade.iterrows():\n",
    "    authors = row['citation_authors']\n",
    "    temp_indices = []\n",
    "    for _ in range(avg_negative):\n",
    "        isInclude = True\n",
    "        while(isInclude):\n",
    "            rand_author_id = random.choice(author_ls)\n",
    "            if rand_author_id in authors:\n",
    "                continue\n",
    "            else:\n",
    "                isInclude = False\n",
    "                temp_indices.append(rand_author_id)\n",
    "    df_cascade.at[index, 'negative_authors'] = temp_indices\n"
   ]
  },
  {
   "cell_type": "code",
   "execution_count": 262,
   "metadata": {},
   "outputs": [],
   "source": [
    "# split\n",
    "\n",
    "train_data, temp_data = train_test_split(df_cascade, test_size=valid_size, random_state=seed)\n",
    "val_data, test_data = train_test_split(temp_data, test_size=test_size, random_state=seed)\n",
    "\n",
    "train_iter = [] # [paper_id, author_id, label]\n",
    "for index, row in train_data.iterrows():\n",
    "    paper_id = row['paper_id']\n",
    "    for author in row['citation_authors']:\n",
    "        train_iter.append([paper_id, int(author), 1])\n",
    "    for negative in row['negative_authors']:\n",
    "        train_iter.append([paper_id, int(negative), 0])\n",
    "\n",
    "val_iter = []\n",
    "for index, row in val_data.iterrows():\n",
    "    paper_id = row['paper_id']\n",
    "    for author in row['citation_authors']:\n",
    "        val_iter.append([paper_id, int(author), 1])\n",
    "    for negative in row['negative_authors']:\n",
    "        val_iter.append([paper_id, int(negative), 0])\n",
    "\n",
    "test_iter = []\n",
    "for index, row in test_data.iterrows():\n",
    "    paper_id = row['paper_id']\n",
    "    for author in row['citation_authors']:\n",
    "        test_iter.append([paper_id, int(author), 1])\n",
    "    for negative in row['negative_authors']:\n",
    "        test_iter.append([paper_id, int(negative), 0])"
   ]
  },
  {
   "cell_type": "code",
   "execution_count": 263,
   "metadata": {},
   "outputs": [],
   "source": [
    "# data loader\n",
    "\n",
    "class PairDataset(Dataset): # [paper_id, paper_ids of author_id, label]\n",
    "  def __init__(self, x):\n",
    "    self.x_paper = np.array(x)[:,0]\n",
    "    self.x_author = np.array(x)[:,1]\n",
    "    self.y = np.array(x)[:,2]\n",
    "  \n",
    "  def __len__(self):\n",
    "    return len(self.x_paper)\n",
    "\n",
    "  def __getitem__(self, idx):\n",
    "    x1_sample = self.x_paper[idx] # paper_id\n",
    "    x2_sample = df_authors.loc[df_authors['author_id'] == self.x_author[idx], 'paper_ids']\n",
    "    x2_sample = x2_sample.values[0] # list of paper ids\n",
    "\n",
    "    # pad to max length of paper_ids\n",
    "    # already known that loaded_tensor[0] is embedding of empty string\n",
    "    x2_sample = np.array(x2_sample + [0] * (max_len - len(x2_sample)))\n",
    "    y_sample = np.array(self.y[idx])\n",
    "    \n",
    "    return x1_sample, x2_sample, y_sample\n",
    "\n",
    "train_data = PairDataset(train_iter)\n",
    "valid_data = PairDataset(val_iter)\n",
    "test_data = PairDataset(test_iter)\n",
    "\n",
    "train_loader = DataLoader(train_data, batch_size=batch_size, shuffle=True)\n",
    "valid_loader = DataLoader(valid_data, batch_size=batch_size, shuffle=True)\n",
    "test_loader = DataLoader(test_data, batch_size=batch_size, shuffle=True)"
   ]
  },
  {
   "cell_type": "code",
   "execution_count": 264,
   "metadata": {},
   "outputs": [
    {
     "name": "stdout",
     "output_type": "stream",
     "text": [
      "torch.Size([2048])\n",
      "torch.Size([2048, 400])\n",
      "torch.Size([2048])\n",
      "236\n"
     ]
    }
   ],
   "source": [
    "for paper_id, author_id_ls, label in train_loader:\n",
    "    print(paper_id.shape)\n",
    "    print(author_id_ls.shape)\n",
    "    print(label.shape)\n",
    "    break\n",
    "print(len(train_loader))"
   ]
  },
  {
   "cell_type": "code",
   "execution_count": 265,
   "metadata": {},
   "outputs": [],
   "source": [
    "# model\n",
    "class FcClassifier(nn.Module):\n",
    "    def __init__(self, embedding_dim, hidden_dim, dropout=0.5):\n",
    "        super(FcClassifier, self).__init__()\n",
    "        self.fc_x1 = nn.Sequential(\n",
    "            nn.Linear(embedding_dim, hidden_dim),\n",
    "            nn.ReLU(),\n",
    "            nn.Linear(hidden_dim, hidden_dim)\n",
    "        )\n",
    "        self.fc_x2 = nn.Linear(embedding_dim * max_len, hidden_dim)\n",
    "        self.fc_x3 = nn.Linear(hidden_dim*2, 2)\n",
    "        self.dropout = nn.Dropout(dropout)\n",
    "\n",
    "    def forward(self, x1_idx, x2_idxs):\n",
    "        # Retrieve sentence embeddings\n",
    "        try:\n",
    "            x1_embedding = loaded_tensor[x1_idx]\n",
    "        except IndexError:\n",
    "            print ('Error', x1_idx)\n",
    "\n",
    "        try:\n",
    "            x2_embeddings = [loaded_tensor[idx] for idx in x2_idxs]\n",
    "        except IndexError:\n",
    "            print ('Error', x2_idxs)\n",
    "\n",
    "        # Process x1 embedding\n",
    "        y1 = self.fc_x1(x1_embedding)\n",
    "        # Process x2 embeddings\n",
    "        y2_representations = []\n",
    "        for emb in x2_embeddings:\n",
    "            y2_rep = emb.unsqueeze(0)  # Add unsqueeze(0) to make the shape [1, embed_dim]\n",
    "            y2_representations.append(y2_rep)\n",
    "        y2 = torch.cat(y2_representations, dim=0)\n",
    "        y2 = y2.view(y2.size(0), -1)\n",
    "        y2 = self.fc_x2(y2)\n",
    "\n",
    "        # Concatenate y1 and y2\n",
    "        final_output = torch.cat([y1, y2], dim=-1)\n",
    "        y_final = self.fc_x3(final_output)\n",
    "\n",
    "        return y_final"
   ]
  },
  {
   "cell_type": "code",
   "execution_count": 266,
   "metadata": {},
   "outputs": [
    {
     "name": "stdout",
     "output_type": "stream",
     "text": [
      "=================================================================\n",
      "Layer (type:depth-idx)                   Param #\n",
      "=================================================================\n",
      "FcClassifier                             --\n",
      "├─Sequential: 1-1                        --\n",
      "│    └─Linear: 2-1                       49,280\n",
      "│    └─ReLU: 2-2                         --\n",
      "│    └─Linear: 2-3                       16,512\n",
      "├─Linear: 1-2                            19,660,928\n",
      "├─Linear: 1-3                            514\n",
      "├─Dropout: 1-4                           --\n",
      "=================================================================\n",
      "Total params: 19,727,234\n",
      "Trainable params: 19,727,234\n",
      "Non-trainable params: 0\n",
      "=================================================================\n"
     ]
    }
   ],
   "source": [
    "model = FcClassifier(embedding_dim=embed_dim, hidden_dim=128, dropout=dropout).to(device)\n",
    "print(torchinfo.summary(model))"
   ]
  },
  {
   "cell_type": "code",
   "execution_count": 267,
   "metadata": {},
   "outputs": [],
   "source": [
    "criterion = nn.CrossEntropyLoss()\n",
    "optimizer = torch.optim.Adam(model.parameters(), lr=learning_rate, weight_decay=weight_decay)"
   ]
  },
  {
   "cell_type": "code",
   "execution_count": 268,
   "metadata": {},
   "outputs": [
    {
     "name": "stdout",
     "output_type": "stream",
     "text": [
      "Epoch [1/10], Training_Loss: 0.5669\n",
      "Validation loss: 0.5450\n",
      "Epoch [2/10], Training_Loss: 0.4122\n",
      "Validation loss: 0.7067\n",
      "Epoch [3/10], Training_Loss: 0.5678\n",
      "Validation loss: 0.5668\n",
      "Epoch [4/10], Training_Loss: 0.5924\n",
      "Validation loss: 0.6048\n",
      "Epoch [5/10], Training_Loss: 0.5861\n",
      "Validation loss: 0.5627\n",
      "Epoch [6/10], Training_Loss: 0.5729\n",
      "Validation loss: 0.6800\n",
      "Epoch [7/10], Training_Loss: 0.6067\n",
      "Validation loss: 0.5948\n",
      "Epoch [8/10], Training_Loss: 0.4581\n",
      "Validation loss: 0.5451\n",
      "Epoch [9/10], Training_Loss: 0.4722\n",
      "Validation loss: 0.5351\n",
      "Epoch [10/10], Training_Loss: 0.5419\n",
      "Validation loss: 0.5336\n"
     ]
    }
   ],
   "source": [
    "# training loop\n",
    "model.train()\n",
    "training_loss = []\n",
    "valid_loss = []\n",
    "training_accuracy = []\n",
    "valid_accuracy = []\n",
    "\n",
    "for epoch in range(epochs):\n",
    "    correct = 0 # for train_accuracy\n",
    "    model.train()\n",
    "    for index, [paper_id, author_id_ls, label] in enumerate(train_loader):\n",
    "        optimizer.zero_grad()\n",
    "        paper_id = paper_id.to(device)\n",
    "        author_id_ls = author_id_ls.to(device)\n",
    "        output = model(paper_id, author_id_ls)\n",
    "        loss = criterion(output, label.long())\n",
    "        loss.backward()\n",
    "        optimizer.step()\n",
    "        # Calculate training accuracy\n",
    "        preds = torch.argmax(output, dim=1)\n",
    "        correct += (preds == label).sum().item()\n",
    "    training_accuracy.append(correct / len(train_loader.dataset))\n",
    "    training_loss.append(loss.item())\n",
    "    print(f'Epoch [{epoch+1}/{epochs}], Training_Loss: {loss.item():.4f}')\n",
    "\n",
    "    # Validation\n",
    "    num_correct = 0 # for valid_accuracy\n",
    "    model.eval()\n",
    "    val_loss = 0.0\n",
    "    for x1, x2, y in valid_loader:\n",
    "        x = x1.to(device)\n",
    "        x2 = x2.to(device)\n",
    "        y = y.to(device)\n",
    "        preds = model(x1, x2)\n",
    "        loss = criterion(preds, y.long())\n",
    "        val_loss += loss.item()\n",
    "        num_correct += (torch.argmax(preds, dim=1) == y).sum().item()\n",
    "    \n",
    "    valid_accuracy.append(num_correct / len(valid_loader.dataset))\n",
    "    val_loss /= len(valid_loader)\n",
    "    valid_loss.append(val_loss)\n",
    "    print(f'Validation loss: {val_loss:.4f}')"
   ]
  },
  {
   "cell_type": "code",
   "execution_count": 271,
   "metadata": {},
   "outputs": [
    {
     "data": {
      "text/plain": [
       "[<matplotlib.lines.Line2D at 0x17d3cf3a0>,\n",
       " <matplotlib.lines.Line2D at 0x17d3dd2e0>]"
      ]
     },
     "execution_count": 271,
     "metadata": {},
     "output_type": "execute_result"
    },
    {
     "data": {
      "image/png": "[encoded data removed]",
      "text/plain": [
       "<Figure size 640x480 with 1 Axes>"
      ]
     },
     "metadata": {},
     "output_type": "display_data"
    }
   ],
   "source": [
    "plt.plot(training_loss, 'b', valid_loss, 'r')"
   ]
  },
  {
   "cell_type": "code",
   "execution_count": 272,
   "metadata": {},
   "outputs": [
    {
     "data": {
      "text/plain": [
       "[<matplotlib.lines.Line2D at 0x17d535a90>,\n",
       " <matplotlib.lines.Line2D at 0x17d535ac0>]"
      ]
     },
     "execution_count": 272,
     "metadata": {},
     "output_type": "execute_result"
    },
    {
     "data": {
      "image/png": "[encoded data removed]",
      "text/plain": [
       "<Figure size 640x480 with 1 Axes>"
      ]
     },
     "metadata": {},
     "output_type": "display_data"
    }
   ],
   "source": [
    "plt.plot(training_accuracy, 'b', valid_accuracy, 'r')"
   ]
  },
  {
   "cell_type": "code",
   "execution_count": 273,
   "metadata": {},
   "outputs": [
    {
     "name": "stdout",
     "output_type": "stream",
     "text": [
      "Test Accuracy: 73.51%\n",
      "Test Precision: 70.34%\n",
      "Test Recall: 76.28%\n",
      "Test F1 Score: 73.19%\n"
     ]
    }
   ],
   "source": [
    "model.eval()\n",
    "preds = []\n",
    "labels = []\n",
    "with torch.no_grad():\n",
    "    running_hit = 0.0\n",
    "\n",
    "    for x1, x2, y in test_loader:\n",
    "        x1 = x1.to(device)\n",
    "        x2 = x2.to(device)    \n",
    "        y = y.to(device)\n",
    "        output = model(x1, x2)\n",
    "        pred = output.argmax(dim=1)\n",
    "        labels.append(y)\n",
    "        preds.append(pred)\n",
    "    preds_cat = torch.cat(preds).to('cpu')\n",
    "    labels_cat = torch.cat(labels).to('cpu')\n",
    "    \n",
    "    accuracy = accuracy_score(preds_cat, labels_cat)\n",
    "    precision = precision_score(preds_cat, labels_cat)\n",
    "    recall = recall_score(preds_cat, labels_cat)\n",
    "    f1 = f1_score(preds_cat, labels_cat)\n",
    "    print(f'Test Accuracy: {accuracy * 100:.2f}%')\n",
    "    print(f'Test Precision: {precision * 100:.2f}%')\n",
    "    print(f'Test Recall: {recall * 100:.2f}%')\n",
    "    print(f'Test F1 Score: {f1 * 100:.2f}%')"
   ]
  }
 ],
 "metadata": {
  "kernelspec": {
   "display_name": "base",
   "language": "python",
   "name": "python3"
  },
  "language_info": {
   "codemirror_mode": {
    "name": "ipython",
    "version": 3
   },
   "file_extension": ".py",
   "mimetype": "text/x-python",
   "name": "python",
   "nbconvert_exporter": "python",
   "pygments_lexer": "ipython3",
   "version": "3.9.13"
  }
 },
 "nbformat": 4,
 "nbformat_minor": 2
}
